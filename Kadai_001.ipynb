{
  "nbformat": 4,
  "nbformat_minor": 0,
  "metadata": {
    "colab": {
      "provenance": [],
      "authorship_tag": "ABX9TyMh/UQEQYTdwzggRr39uog/",
      "include_colab_link": true
    },
    "kernelspec": {
      "name": "python3",
      "display_name": "Python 3"
    },
    "language_info": {
      "name": "python"
    }
  },
  "cells": [
    {
      "cell_type": "markdown",
      "metadata": {
        "id": "view-in-github",
        "colab_type": "text"
      },
      "source": [
        "<a href=\"https://colab.research.google.com/github/Hata165/python-basic-kadai/blob/main/Kadai_001.ipynb\" target=\"_parent\"><img src=\"https://colab.research.google.com/assets/colab-badge.svg\" alt=\"Open In Colab\"/></a>"
      ]
    },
    {
      "cell_type": "code",
      "source": [],
      "metadata": {
        "id": "0nhsh19LEWP1"
      },
      "execution_count": null,
      "outputs": []
    },
    {
      "cell_type": "code",
      "execution_count": 30,
      "metadata": {
        "id": "9jsDygsY901y"
      },
      "outputs": [],
      "source": [
        "import openpyxl\n",
        "workbook=openpyxl.Workbook()\n",
        "\n",
        "ws=workbook.active\n",
        "\n",
        "ws[\"B2\"]=\"請求書\"\n",
        "ws[\"B4\"]=\"株式会社ABC\"\n",
        "ws[\"B5\"]=\"〒101-0022 東京都千代田区神田練塀町300\"\n",
        "ws[\"B6\"]=\"TEL:03-1234-5678 FAX:03-1234-5678\"\n",
        "ws[\"B7\"]=\"担当者名:鈴木一郎 様\"\n",
        "\n",
        "ws[\"F4\"]=\"NO\"\n",
        "ws[\"F5\"]=\"日付\"\n",
        "ws[\"G4\"]=\"0001\"\n",
        "ws[\"G5\"]=\"=TODAY()\"\n",
        "\n",
        "\n",
        "data=[\n",
        "    [\"商品名\",\"数量\",\"単価\",\"金額\"],\n",
        "    [\"商品A\",2,10000,\"=C11*D11\"],\n",
        "    [\"商品B\",1,15000,\"=C12*D12\"],\n",
        "    [\"\",\"\",\"\",\"=E11+E12\"],\n",
        "    [\"合計\",\"\",\"\",\"=E13\"],\n",
        "    [\"消費税\",\"\",\"\",\"=E15*0.1\"],\n",
        "    [\"税込合計\",\"\",\"\",\"=E15+E16\"],\n",
        "    ]\n",
        "\n",
        "\n",
        "#セル位置を指定してデータを挿入\n",
        "row_count=10 #データを挿入する始まりの行\n",
        "for row in data:\n",
        "    col_count=2\n",
        "    for item in row:\n",
        "        ws.cell(row=row_count,column=col_count,value=item)\n",
        "        col_count+=1\n",
        "    row_count+=1\n",
        "\n",
        "#行を挿入する\n",
        "ws.insert_rows(14,1)\n",
        "\n",
        "workbook.save(\"sample1.xlsx\")\n"
      ]
    },
    {
      "cell_type": "markdown",
      "source": [],
      "metadata": {
        "id": "-nDtMAMQcJxe"
      }
    },
    {
      "cell_type": "code",
      "source": [],
      "metadata": {
        "id": "wFyWsYcxcKnS"
      },
      "execution_count": null,
      "outputs": []
    },
    {
      "cell_type": "code",
      "execution_count": null,
      "metadata": {
        "id": "P5uO6yEZGZ5N"
      },
      "outputs": [],
      "source": []
    },
    {
      "cell_type": "code",
      "execution_count": null,
      "metadata": {
        "id": "BQkln-1VEcj0"
      },
      "outputs": [],
      "source": [
        "\n",
        "\n",
        "\n",
        "\n"
      ]
    },
    {
      "cell_type": "code",
      "execution_count": null,
      "metadata": {
        "id": "XFK1MUmDEjQp"
      },
      "outputs": [],
      "source": [
        "\n"
      ]
    }
  ]
}