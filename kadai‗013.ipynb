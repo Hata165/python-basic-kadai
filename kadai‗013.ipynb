{
  "cells": [
    {
      "cell_type": "markdown",
      "metadata": {
        "id": "view-in-github",
        "colab_type": "text"
      },
      "source": [
        "<a href=\"https://colab.research.google.com/github/Hata165/python-basic-kadai/blob/main/kadai%E2%80%97013.ipynb\" target=\"_parent\"><img src=\"https://colab.research.google.com/assets/colab-badge.svg\" alt=\"Open In Colab\"/></a>"
      ]
    },
    {
      "cell_type": "code",
      "execution_count": null,
      "metadata": {
        "id": "aP44cdf1aXa0",
        "colab": {
          "base_uri": "https://localhost:8080/"
        },
        "outputId": "5572be63-5d9a-4749-91c6-ad2195a88d36"
      },
      "outputs": [
        {
          "output_type": "stream",
          "name": "stdout",
          "text": [
            "550円\n"
          ]
        }
      ],
      "source": [
        "def calculate_total(price,tax):\n",
        "\n",
        "    total=price+tax\n",
        "    print(f\"{total}円\")\n",
        "\n",
        "calculate_total(500,50)\n"
      ]
    }
  ],
  "metadata": {
    "colab": {
      "provenance": [],
      "authorship_tag": "ABX9TyMKQzymLwqjed+oBNp0qs+b",
      "include_colab_link": true
    },
    "kernelspec": {
      "display_name": "Python 3",
      "name": "python3"
    },
    "language_info": {
      "name": "python"
    }
  },
  "nbformat": 4,
  "nbformat_minor": 0
}