{
  "nbformat": 4,
  "nbformat_minor": 0,
  "metadata": {
    "colab": {
      "provenance": [],
      "authorship_tag": "ABX9TyP7PjkMkOFga0yJKvDqsYem",
      "include_colab_link": true
    },
    "kernelspec": {
      "name": "python3",
      "display_name": "Python 3"
    },
    "language_info": {
      "name": "python"
    }
  },
  "cells": [
    {
      "cell_type": "markdown",
      "metadata": {
        "id": "view-in-github",
        "colab_type": "text"
      },
      "source": [
        "<a href=\"https://colab.research.google.com/github/Hata165/python-basic-kadai/blob/main/kadai_015.ipynb\" target=\"_parent\"><img src=\"https://colab.research.google.com/assets/colab-badge.svg\" alt=\"Open In Colab\"/></a>"
      ]
    },
    {
      "cell_type": "code",
      "execution_count": null,
      "metadata": {
        "colab": {
          "base_uri": "https://localhost:8080/"
        },
        "id": "HiR-Trsq-dSg",
        "outputId": "5b18aa53-7aec-4ed1-d69b-e37029b2cffb"
      },
      "outputs": [
        {
          "output_type": "stream",
          "name": "stdout",
          "text": [
            "シャンプー\n"
          ]
        }
      ],
      "source": [
        "class Product:\n",
        "    def __init__ (self):\n",
        "    #属性を定義する\n",
        "        self.name=\"\"\n",
        "\n",
        "shampoo=Product()\n",
        "\n",
        "#属性にアクセスし、値を代入する\n",
        "shampoo.name=\"シャンプー\"\n",
        "\n",
        "#属性にアクセスし、値を出力する\n",
        "print(shampoo.name)"
      ]
    },
    {
      "cell_type": "code",
      "source": [],
      "metadata": {
        "id": "ypebn0VD2w_w"
      },
      "execution_count": null,
      "outputs": []
    },
    {
      "cell_type": "code",
      "execution_count": null,
      "metadata": {
        "id": "05HWonLX25ea"
      },
      "outputs": [],
      "source": [
        "class Product:\n",
        "    def __init__ (self):\n",
        "    #属性を定義する\n",
        "        self.name=\"\"\n",
        "    #メソッドを定義する\n",
        "    def set_name(self,name):\n",
        "      self.name=name\n",
        "\n",
        "shampoo=Product()\n",
        "\n",
        "#メソッドにアクセスして実行する\n",
        "shampoo.set_name(\"シャンプー\")\n",
        "\n"
      ]
    },
    {
      "cell_type": "code",
      "source": [
        "class  Product:\n",
        "    def __init__(self):\n",
        "      self.name=\"\"\n",
        "\n",
        "    #メソッドを定義する\n",
        "    def set_name(self,name):\n",
        "      self.name=name\n",
        "\n",
        "    def show_name(self):\n",
        "      print(self.name)\n",
        "\n",
        "#インスタンス化する\n",
        "coffee=Product()\n",
        "\n",
        "#メソッドにアクセスして実行する\n",
        "coffee.set_name(\"コーヒー\")\n",
        "coffee.show_name()\n"
      ],
      "metadata": {
        "colab": {
          "base_uri": "https://localhost:8080/"
        },
        "id": "QvpOTlHR4Gcp",
        "outputId": "827cd55f-31c3-4404-ae66-1fa40cba3c63"
      },
      "execution_count": null,
      "outputs": [
        {
          "output_type": "stream",
          "name": "stdout",
          "text": [
            "コーヒー\n"
          ]
        }
      ]
    },
    {
      "cell_type": "code",
      "source": [
        "class User:\n",
        "  #コンストラクタを定義する\n",
        "  def __init__(self,name,age,gender):\n",
        "    self.name=name\n",
        "    self.age=age\n",
        "    self.gender=gender\n",
        "\n",
        "#インスタンス化する\n",
        "user=User(\"侍太郎\",36,\"男性\")\n",
        "\n",
        "#属性にアクセスし、値を出力する\n",
        "print(user.name)\n",
        "print(user.age)\n",
        "print(user.gender)"
      ],
      "metadata": {
        "colab": {
          "base_uri": "https://localhost:8080/"
        },
        "id": "pxNurSty6TvZ",
        "outputId": "bf328c83-2664-44eb-c9c6-75a551e365da"
      },
      "execution_count": null,
      "outputs": [
        {
          "output_type": "stream",
          "name": "stdout",
          "text": [
            "侍太郎\n",
            "36\n",
            "男性\n"
          ]
        }
      ]
    },
    {
      "cell_type": "code",
      "source": [
        "class Human:\n",
        "\n",
        "#コンストラクタを定義する\n",
        "    def __init__ (self,name,age):\n",
        "      self.name=name\n",
        "      self.age=age\n",
        "\n",
        "#インスタンス化する\n",
        "human=Human(\"侍太郎\",\"男\")\n",
        "\n",
        "print(human.name)\n",
        "print(human.age)\n"
      ],
      "metadata": {
        "colab": {
          "base_uri": "https://localhost:8080/"
        },
        "id": "ogzB3CId9xL2",
        "outputId": "9ffd7f2d-c7c5-4ab4-f914-97c30e550e01"
      },
      "execution_count": null,
      "outputs": [
        {
          "output_type": "stream",
          "name": "stdout",
          "text": [
            "侍太郎\n",
            "男\n"
          ]
        }
      ]
    }
  ]
}