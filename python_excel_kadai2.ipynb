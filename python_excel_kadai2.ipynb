{
  "nbformat": 4,
  "nbformat_minor": 0,
  "metadata": {
    "colab": {
      "provenance": [],
      "authorship_tag": "ABX9TyNUne7ZruVb2VuPSNV5Agkh",
      "include_colab_link": true
    },
    "kernelspec": {
      "name": "python3",
      "display_name": "Python 3"
    },
    "language_info": {
      "name": "python"
    }
  },
  "cells": [
    {
      "cell_type": "markdown",
      "metadata": {
        "id": "view-in-github",
        "colab_type": "text"
      },
      "source": [
        "<a href=\"https://colab.research.google.com/github/Hata165/python-basic-kadai/blob/main/python_excel_kadai2.ipynb\" target=\"_parent\"><img src=\"https://colab.research.google.com/assets/colab-badge.svg\" alt=\"Open In Colab\"/></a>"
      ]
    },
    {
      "cell_type": "code",
      "execution_count": 17,
      "metadata": {
        "id": "d3CJsvAUf4wl"
      },
      "outputs": [],
      "source": [
        "import pandas as pd\n",
        "\n",
        "#データフレームの作成\n",
        "df=pd.DataFrame({\n",
        "    \"日付\":\n",
        "    [\"2023-05-17\",\"2023-05-18\",\"2023-05-19\",\"2023-05-20\",\"2023-05-21\"],\n",
        "    \"社員名\":\n",
        "    [\"山田\",\"佐藤\",\"鈴木\",\"田中\",\"高橋\"],\n",
        "    \"売上\":\n",
        "    [100,200,150,300,250],\n",
        "    \"部門\":\n",
        "    [\"メーカー\",\"代理店\",\"メーカー\",\"商社\",\"代理店\"],\n",
        "})\n",
        "\n",
        "#売り上げの平均を求めて新しい列を作成\n",
        "df[\"平均売上\"]=df[\"売上\"].mean()\n",
        "\n",
        "#平均売上+50で分岐して、業績のランクを決める「performance」を定義\n",
        "def performance(level):\n",
        "  result=\"\";\n",
        "  if level >= 50+(100+200+150+300+250)/5:\n",
        "    result=\"A\";\n",
        "  elif level >= (100+200+150+300+250)/5:\n",
        "    result=\"B\";\n",
        "  else:\n",
        "    result=\"C\";\n",
        "  return result\n",
        "\n",
        "#「業績ランク」列を作成し、関数「performance」を適用して値を設定\n",
        "df[\"業績ランク\"]=df[\"売上\"].apply(performance)\n",
        "\n",
        "#Excelファイルを作成\n",
        "writer=pd.ExcelWriter(\"業績.xlsx\")\n",
        "\n",
        "#DataFrameオブジェクトをExcelファイルに書き込む\n",
        "df.to_excel(writer,sheet_name=\"sheet1\",index=False)\n",
        "\n",
        "#Excelファイルを閉じる\n",
        "writer.close()\n"
      ]
    }
  ]
}