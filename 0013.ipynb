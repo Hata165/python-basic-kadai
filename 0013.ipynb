{
  "nbformat": 4,
  "nbformat_minor": 0,
  "metadata": {
    "colab": {
      "provenance": [],
      "toc_visible": true,
      "authorship_tag": "ABX9TyPHY8PdiB4HjOoP5RYCsQO0",
      "include_colab_link": true
    },
    "kernelspec": {
      "name": "python3",
      "display_name": "Python 3"
    },
    "language_info": {
      "name": "python"
    }
  },
  "cells": [
    {
      "cell_type": "markdown",
      "metadata": {
        "id": "view-in-github",
        "colab_type": "text"
      },
      "source": [
        "<a href=\"https://colab.research.google.com/github/Hata165/python-basic-kadai/blob/main/0013.ipynb\" target=\"_parent\"><img src=\"https://colab.research.google.com/assets/colab-badge.svg\" alt=\"Open In Colab\"/></a>"
      ]
    },
    {
      "cell_type": "code",
      "execution_count": 19,
      "metadata": {
        "colab": {
          "base_uri": "https://localhost:8080/"
        },
        "id": "qDBZ2kKg18Fr",
        "outputId": "c5e5523d-934a-4dc2-efa4-86add0b594c8"
      },
      "outputs": [
        {
          "output_type": "stream",
          "name": "stdout",
          "text": [
            "330.0\n"
          ]
        }
      ],
      "source": [
        "#２変数の合算に税金を加算する\n",
        "tax=1.1\n",
        "price1=100\n",
        "price2=200\n",
        "\n",
        "def total():\n",
        "\n",
        "    return price1+price2\n",
        "\n",
        "print(total()*tax)\n",
        "\n"
      ]
    }
  ]
}