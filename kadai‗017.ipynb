{
  "nbformat": 4,
  "nbformat_minor": 0,
  "metadata": {
    "colab": {
      "provenance": [],
      "authorship_tag": "ABX9TyPjrmdNkMEysoMN2az3S6jS",
      "include_colab_link": true
    },
    "kernelspec": {
      "name": "python3",
      "display_name": "Python 3"
    },
    "language_info": {
      "name": "python"
    }
  },
  "cells": [
    {
      "cell_type": "markdown",
      "metadata": {
        "id": "view-in-github",
        "colab_type": "text"
      },
      "source": [
        "<a href=\"https://colab.research.google.com/github/Hata165/python-basic-kadai/blob/main/kadai%E2%80%97017.ipynb\" target=\"_parent\"><img src=\"https://colab.research.google.com/assets/colab-badge.svg\" alt=\"Open In Colab\"/></a>"
      ]
    },
    {
      "cell_type": "code",
      "execution_count": null,
      "metadata": {
        "colab": {
          "base_uri": "https://localhost:8080/"
        },
        "id": "8s20JTlnd4gj",
        "outputId": "6b7f77b3-a172-455e-be55-d4999b2d2e82"
      },
      "outputs": [
        {
          "output_type": "stream",
          "name": "stdout",
          "text": [
            "250\n"
          ]
        }
      ],
      "source": [
        "potato_price=250\n",
        "print(potato_price)"
      ]
    },
    {
      "cell_type": "code",
      "source": [
        "globals()\n"
      ],
      "metadata": {
        "id": "afo_3l6_e0fI"
      },
      "execution_count": null,
      "outputs": []
    },
    {
      "cell_type": "code",
      "source": [
        "menu_list=[\"フライドチキン\",\"ハンバーガー\",\"ポテト\",\"チキンナゲット\"]\n",
        "print(menu_list)\n"
      ],
      "metadata": {
        "colab": {
          "base_uri": "https://localhost:8080/"
        },
        "id": "wLUJW9Nne8Cl",
        "outputId": "6bd705a3-0892-499d-c5f6-1a287b3b4f4b"
      },
      "execution_count": null,
      "outputs": [
        {
          "output_type": "stream",
          "name": "stdout",
          "text": [
            "['フライドチキン', 'ハンバーガー', 'ポテト', 'チキンナゲット']\n"
          ]
        }
      ]
    },
    {
      "cell_type": "code",
      "source": [
        "globals()"
      ],
      "metadata": {
        "colab": {
          "base_uri": "https://localhost:8080/"
        },
        "id": "iEWsc1A8fbRr",
        "outputId": "ca7596fb-8a2c-4d7e-fe89-08fc847bc274"
      },
      "execution_count": null,
      "outputs": [
        {
          "output_type": "execute_result",
          "data": {
            "text/plain": [
              "{'__name__': '__main__',\n",
              " '__doc__': 'Automatically created module for IPython interactive environment',\n",
              " '__package__': None,\n",
              " '__loader__': None,\n",
              " '__spec__': None,\n",
              " '__builtin__': <module 'builtins' (built-in)>,\n",
              " '__builtins__': <module 'builtins' (built-in)>,\n",
              " '_ih': ['',\n",
              "  'print(\"Hello,world\")',\n",
              "  'potato_price=250\\nprint(potato_price)',\n",
              "  'globals()',\n",
              "  'menu_list=[\"フライドチキン\",\"ハンバーガー\",\"ポテト\"]\\nprint(menu_list)',\n",
              "  'globals()',\n",
              "  'globals()'],\n",
              " '_oh': {3: {...}, 5: {...}},\n",
              " '_dh': ['/content'],\n",
              " 'In': ['',\n",
              "  'print(\"Hello,world\")',\n",
              "  'potato_price=250\\nprint(potato_price)',\n",
              "  'globals()',\n",
              "  'menu_list=[\"フライドチキン\",\"ハンバーガー\",\"ポテト\"]\\nprint(menu_list)',\n",
              "  'globals()',\n",
              "  'globals()'],\n",
              " 'Out': {3: {...}, 5: {...}},\n",
              " 'get_ipython': <bound method InteractiveShell.get_ipython of <google.colab._shell.Shell object at 0x787fb434f8b0>>,\n",
              " 'exit': <IPython.core.autocall.ZMQExitAutocall at 0x787fb434fe50>,\n",
              " 'quit': <IPython.core.autocall.ZMQExitAutocall at 0x787fb434fe50>,\n",
              " '_': {...},\n",
              " '__': {...},\n",
              " '___': '',\n",
              " '_i': 'globals()',\n",
              " '_ii': 'menu_list=[\"フライドチキン\",\"ハンバーガー\",\"ポテト\"]\\nprint(menu_list)',\n",
              " '_iii': 'globals()',\n",
              " '_i1': 'print(\"Hello,world\")',\n",
              " '_i2': 'potato_price=250\\nprint(potato_price)',\n",
              " 'potato_price': 250,\n",
              " '_i3': 'globals()',\n",
              " '_3': {...},\n",
              " '_i4': 'menu_list=[\"フライドチキン\",\"ハンバーガー\",\"ポテト\"]\\nprint(menu_list)',\n",
              " 'menu_list': ['フライドチキン', 'ハンバーガー', 'ポテト'],\n",
              " '_i5': 'globals()',\n",
              " '_5': {...},\n",
              " '_i6': 'globals()'}"
            ]
          },
          "metadata": {},
          "execution_count": 6
        }
      ]
    },
    {
      "cell_type": "code",
      "source": [
        "def hello():\n",
        "    print(\"こんにちは\")"
      ],
      "metadata": {
        "id": "56pPLL1hfmF8"
      },
      "execution_count": null,
      "outputs": []
    },
    {
      "cell_type": "code",
      "source": [
        "globals()"
      ],
      "metadata": {
        "id": "kHE7o4jBhXjk"
      },
      "execution_count": null,
      "outputs": []
    },
    {
      "cell_type": "code",
      "source": [
        "hello()"
      ],
      "metadata": {
        "colab": {
          "base_uri": "https://localhost:8080/"
        },
        "id": "AcrV2wNohgdp",
        "outputId": "5ec66ee7-83d3-4d8a-d5bc-0d03613219bf"
      },
      "execution_count": null,
      "outputs": [
        {
          "output_type": "stream",
          "name": "stdout",
          "text": [
            "こんにちは\n"
          ]
        }
      ]
    },
    {
      "cell_type": "code",
      "source": [
        "def add(n):\n",
        "  m=2\n",
        "  print(\"ローカルスコープ:\",locals())\n",
        "  return n+m"
      ],
      "metadata": {
        "id": "XwuVTqH4hsvI"
      },
      "execution_count": null,
      "outputs": []
    },
    {
      "cell_type": "code",
      "source": [
        "number=15\n",
        "add(number)"
      ],
      "metadata": {
        "colab": {
          "base_uri": "https://localhost:8080/"
        },
        "id": "HGlFinD0iQzL",
        "outputId": "1563ca1a-93fc-45d1-ff67-ab11e3e4f6aa"
      },
      "execution_count": null,
      "outputs": [
        {
          "output_type": "stream",
          "name": "stdout",
          "text": [
            "ローカルスコープ: {'n': 15, 'm': 2}\n"
          ]
        },
        {
          "output_type": "execute_result",
          "data": {
            "text/plain": [
              "17"
            ]
          },
          "metadata": {},
          "execution_count": 22
        }
      ]
    },
    {
      "cell_type": "code",
      "source": [
        "dir(__builtin__)\n"
      ],
      "metadata": {
        "id": "eliglRDoi9GB"
      },
      "execution_count": null,
      "outputs": []
    },
    {
      "cell_type": "code",
      "source": [
        "i=5\n",
        "def f():\n",
        "  print(i)\n",
        "  print(Warning)\n",
        "f()"
      ],
      "metadata": {
        "colab": {
          "base_uri": "https://localhost:8080/"
        },
        "id": "-GyPPh4MjLQ6",
        "outputId": "1a550e67-9826-48e6-ef70-293f3f03a9eb"
      },
      "execution_count": null,
      "outputs": [
        {
          "output_type": "stream",
          "name": "stdout",
          "text": [
            "5\n",
            "<class 'Warning'>\n"
          ]
        }
      ]
    },
    {
      "cell_type": "code",
      "source": [
        "def g():\n",
        "  b=1\n",
        "g()\n",
        "print(b)"
      ],
      "metadata": {
        "colab": {
          "base_uri": "https://localhost:8080/",
          "height": 181
        },
        "id": "k2eFmBdamlK5",
        "outputId": "8e312322-3e05-4bad-df69-d16b94409fd8"
      },
      "execution_count": null,
      "outputs": [
        {
          "output_type": "error",
          "ename": "NameError",
          "evalue": "name 'b' is not defined",
          "traceback": [
            "\u001b[0;31m---------------------------------------------------------------------------\u001b[0m",
            "\u001b[0;31mNameError\u001b[0m                                 Traceback (most recent call last)",
            "\u001b[0;32m<ipython-input-27-aff962da02b4>\u001b[0m in \u001b[0;36m<cell line: 4>\u001b[0;34m()\u001b[0m\n\u001b[1;32m      2\u001b[0m   \u001b[0mb\u001b[0m\u001b[0;34m=\u001b[0m\u001b[0;36m1\u001b[0m\u001b[0;34m\u001b[0m\u001b[0;34m\u001b[0m\u001b[0m\n\u001b[1;32m      3\u001b[0m \u001b[0mg\u001b[0m\u001b[0;34m(\u001b[0m\u001b[0;34m)\u001b[0m\u001b[0;34m\u001b[0m\u001b[0;34m\u001b[0m\u001b[0m\n\u001b[0;32m----> 4\u001b[0;31m \u001b[0mprint\u001b[0m\u001b[0;34m(\u001b[0m\u001b[0mb\u001b[0m\u001b[0;34m)\u001b[0m\u001b[0;34m\u001b[0m\u001b[0;34m\u001b[0m\u001b[0m\n\u001b[0m",
            "\u001b[0;31mNameError\u001b[0m: name 'b' is not defined"
          ]
        }
      ]
    },
    {
      "cell_type": "code",
      "source": [
        "memo=[]\n",
        "memo.append(\"玉ネギ\")"
      ],
      "metadata": {
        "id": "oZXoM4wHnz_7"
      },
      "execution_count": null,
      "outputs": []
    },
    {
      "cell_type": "code",
      "source": [
        "memo.append([\"コーラ\",\"オレンジジュース\"])\n",
        "memo"
      ],
      "metadata": {
        "colab": {
          "base_uri": "https://localhost:8080/"
        },
        "id": "vwtteR2QoP4H",
        "outputId": "54d89fe3-7673-4a1a-d3be-f45082de1702"
      },
      "execution_count": null,
      "outputs": [
        {
          "output_type": "execute_result",
          "data": {
            "text/plain": [
              "['玉ネギ', ['コーラ', 'オレンジジュース'], ['コーラ', 'オレンジジュース']]"
            ]
          },
          "metadata": {},
          "execution_count": 31
        }
      ]
    },
    {
      "cell_type": "code",
      "source": [
        "memo.append([\"コーラ\",\"オレンジジュース\"])"
      ],
      "metadata": {
        "id": "cJzzRZWDovUT"
      },
      "execution_count": null,
      "outputs": []
    },
    {
      "cell_type": "code",
      "source": [
        "mother_memo=[\"カレールウ\",\"にんじん\",\"じゃがいも\",\"豚肉\"]\n"
      ],
      "metadata": {
        "id": "I52eob04pIZX"
      },
      "execution_count": null,
      "outputs": []
    },
    {
      "cell_type": "code",
      "source": [
        "memo.extend(mother_memo)\n",
        "memo"
      ],
      "metadata": {
        "colab": {
          "base_uri": "https://localhost:8080/"
        },
        "id": "Pzy9vv84p5qE",
        "outputId": "94f813d0-915e-4ecd-88f9-ea0ec28bbff4"
      },
      "execution_count": null,
      "outputs": [
        {
          "output_type": "execute_result",
          "data": {
            "text/plain": [
              "['玉ネギ', ['コーラ', 'オレンジジュース'], 'カレールウ', 'にんじん', 'じゃがいも', '豚肉']"
            ]
          },
          "metadata": {},
          "execution_count": 50
        }
      ]
    },
    {
      "cell_type": "code",
      "source": [
        "memo.insert(0,\"ノート\")\n",
        "memo"
      ],
      "metadata": {
        "colab": {
          "base_uri": "https://localhost:8080/"
        },
        "id": "JYvYJC-Pq0QU",
        "outputId": "440482d9-6fac-49ff-d641-2c33286d38dc"
      },
      "execution_count": null,
      "outputs": [
        {
          "output_type": "execute_result",
          "data": {
            "text/plain": [
              "['ノート', '玉ネギ', ['コーラ', 'オレンジジュース'], 'カレールウ', 'にんじん', 'じゃがいも', '豚肉']"
            ]
          },
          "metadata": {},
          "execution_count": 51
        }
      ]
    },
    {
      "cell_type": "code",
      "source": [
        "memo.remove(\"カレールウ\")\n",
        "memo"
      ],
      "metadata": {
        "colab": {
          "base_uri": "https://localhost:8080/"
        },
        "id": "i4lR_RVwrpkL",
        "outputId": "3aedf529-8890-4a2a-b3e4-96ed2d7f1595"
      },
      "execution_count": null,
      "outputs": [
        {
          "output_type": "execute_result",
          "data": {
            "text/plain": [
              "['ノート', '玉ネギ', ['コーラ', 'オレンジジュース'], 'にんじん', 'じゃがいも', '豚肉']"
            ]
          },
          "metadata": {},
          "execution_count": 52
        }
      ]
    },
    {
      "cell_type": "code",
      "source": [
        "purchaced=[]"
      ],
      "metadata": {
        "id": "6f9a-GjRr8Bw"
      },
      "execution_count": null,
      "outputs": []
    },
    {
      "cell_type": "code",
      "source": [
        "from collections import deque\n",
        "memo=deque(memo)\n",
        "myhand=memo.popleft()\n",
        "purchaced.append(myhand)"
      ],
      "metadata": {
        "id": "oOISQl2_sMCb"
      },
      "execution_count": null,
      "outputs": []
    },
    {
      "cell_type": "code",
      "source": [
        "print(memo)\n",
        "print(purchaced)\n"
      ],
      "metadata": {
        "colab": {
          "base_uri": "https://localhost:8080/"
        },
        "id": "jNjd-lWjtT_H",
        "outputId": "31b88030-0bfe-4672-dbb6-8a1d28c03198"
      },
      "execution_count": null,
      "outputs": [
        {
          "output_type": "stream",
          "name": "stdout",
          "text": [
            "deque([])\n",
            "[['コーラ', 'オレンジジュース'], 'にんじん', 'じゃがいも', '豚肉']\n"
          ]
        }
      ]
    },
    {
      "cell_type": "code",
      "source": [
        "purchaced.clear()\n",
        "purchaced"
      ],
      "metadata": {
        "colab": {
          "base_uri": "https://localhost:8080/"
        },
        "id": "uXVsfKmEuE0d",
        "outputId": "b08c4a84-337e-40b8-d374-bca82dfb3c13"
      },
      "execution_count": null,
      "outputs": [
        {
          "output_type": "execute_result",
          "data": {
            "text/plain": [
              "[]"
            ]
          },
          "metadata": {},
          "execution_count": 67
        }
      ]
    },
    {
      "cell_type": "code",
      "source": [
        "manga=[1,3,6,8,7,9,10,2,4,5,3]"
      ],
      "metadata": {
        "id": "t_JjRWLuutGs"
      },
      "execution_count": null,
      "outputs": []
    },
    {
      "cell_type": "code",
      "source": [
        "manga.index(4)\n"
      ],
      "metadata": {
        "colab": {
          "base_uri": "https://localhost:8080/"
        },
        "id": "C4ixwvPGv1pt",
        "outputId": "a2582ed5-0f34-4f97-f773-6726d788697f"
      },
      "execution_count": null,
      "outputs": [
        {
          "output_type": "execute_result",
          "data": {
            "text/plain": [
              "8"
            ]
          },
          "metadata": {},
          "execution_count": 69
        }
      ]
    },
    {
      "cell_type": "markdown",
      "source": [],
      "metadata": {
        "id": "x4cc_ubBb8CQ"
      }
    },
    {
      "cell_type": "markdown",
      "source": [
        "# 新しいセクション"
      ],
      "metadata": {
        "id": "7edKjS33njpV"
      }
    },
    {
      "cell_type": "code",
      "source": [
        "manga.count(3)"
      ],
      "metadata": {
        "colab": {
          "base_uri": "https://localhost:8080/"
        },
        "id": "0aXzpD-uwSBp",
        "outputId": "8ba857dd-bc8a-49a0-c363-80949ffb28b1"
      },
      "execution_count": null,
      "outputs": [
        {
          "output_type": "execute_result",
          "data": {
            "text/plain": [
              "2"
            ]
          },
          "metadata": {},
          "execution_count": 70
        }
      ]
    },
    {
      "cell_type": "code",
      "source": [
        "manga.sort()\n",
        "manga"
      ],
      "metadata": {
        "colab": {
          "base_uri": "https://localhost:8080/"
        },
        "id": "Q8XFVObVwZ4x",
        "outputId": "dd0910db-0c17-4d7c-bacf-eff8c528add1"
      },
      "execution_count": null,
      "outputs": [
        {
          "output_type": "execute_result",
          "data": {
            "text/plain": [
              "[1, 2, 3, 3, 4, 5, 6, 7, 8, 9, 10]"
            ]
          },
          "metadata": {},
          "execution_count": 72
        }
      ]
    },
    {
      "cell_type": "code",
      "source": [
        "manga.reverse()\n",
        "manga"
      ],
      "metadata": {
        "colab": {
          "base_uri": "https://localhost:8080/"
        },
        "id": "HEXg3TjXwvRB",
        "outputId": "0ee488ea-0cd9-45a8-8afd-3b49d54ec0b0"
      },
      "execution_count": null,
      "outputs": [
        {
          "output_type": "execute_result",
          "data": {
            "text/plain": [
              "[10, 9, 8, 7, 6, 5, 4, 3, 3, 2, 1]"
            ]
          },
          "metadata": {},
          "execution_count": 73
        }
      ]
    },
    {
      "cell_type": "code",
      "source": [
        "user_names=[\"侍太郎\",\"侍一郎\",\"侍二郎\",\"侍三郎\",\"侍四郎\"]\n",
        "\n",
        "#配列user_namesの要素を一つずつ順番に出力する\n",
        "for user_name in user_names:\n",
        "     print(user_name)"
      ],
      "metadata": {
        "colab": {
          "base_uri": "https://localhost:8080/"
        },
        "id": "ZN5X9fsFbu9V",
        "outputId": "f0468ab1-f499-44ff-fffe-a8dfe616fbb9"
      },
      "execution_count": null,
      "outputs": [
        {
          "output_type": "stream",
          "name": "stdout",
          "text": [
            "侍太郎\n",
            "侍一郎\n",
            "侍二郎\n",
            "侍三郎\n",
            "侍四郎\n"
          ]
        }
      ]
    },
    {
      "cell_type": "code",
      "source": [
        "personal_date={\"name\":\"侍太郎\",\"age\":36,\"gender\":\"男性\"}\n",
        "\n",
        "for key,value in personal_date.items():\n",
        "    print(f\"{key}は{value}です。\")\n",
        "\n",
        "for value in personal_date.values():\n",
        "\n",
        "    print(value)\n",
        "\n",
        "for index,value in enumerate(user_names):\n",
        "      print(f\"{index}:{value}\")"
      ],
      "metadata": {
        "colab": {
          "base_uri": "https://localhost:8080/"
        },
        "id": "NcY2jDngdiPw",
        "outputId": "5458e7c8-e768-4b35-c5f1-326b49949111"
      },
      "execution_count": null,
      "outputs": [
        {
          "output_type": "stream",
          "name": "stdout",
          "text": [
            "nameは侍太郎です。\n",
            "ageは36です。\n",
            "genderは男性です。\n",
            "侍太郎\n",
            "36\n",
            "男性\n",
            "0:侍太郎\n",
            "1:侍一郎\n",
            "2:侍二郎\n",
            "3:侍三郎\n",
            "4:侍四郎\n"
          ]
        }
      ]
    },
    {
      "cell_type": "code",
      "source": [
        "user_names=[\"侍太郎\",\"侍一郎\",\"侍二郎\",\"侍三郎\",\"侍四郎\"]\n",
        "target=\"侍二郎\"\n",
        "\n",
        "for user_name in user_names:\n",
        "  print(user_name)\n",
        "  if user_name==target :\n",
        "    print(f\"{target}さんが見つかったので、繰り返し処理を強制終了します。\")\n",
        "    break\n"
      ],
      "metadata": {
        "colab": {
          "base_uri": "https://localhost:8080/"
        },
        "id": "l5OhKW5veqif",
        "outputId": "f7af1321-5c3f-4723-ce2b-f5fd8211b3c8"
      },
      "execution_count": null,
      "outputs": [
        {
          "output_type": "stream",
          "name": "stdout",
          "text": [
            "侍太郎\n",
            "侍一郎\n",
            "侍二郎\n",
            "侍二郎さんが見つかったので、繰り返し処理を強制終了します。\n"
          ]
        }
      ]
    },
    {
      "cell_type": "code",
      "source": [
        "score={\n",
        "    \"国語\":80,\n",
        "    \"数学\":55,\n",
        "    \"理科\":70,\n",
        "    \"社会\":85,\n",
        "    \"英語\":60,\n",
        "}\n",
        "\n",
        "print(\"合格した科目は以下の通りです。\")\n",
        "\n",
        "for key,value in score.items():\n",
        "\n",
        "    if value<70 :\n",
        "      continue\n",
        "    print(f\"{key}:{value}点\")\n"
      ],
      "metadata": {
        "colab": {
          "base_uri": "https://localhost:8080/"
        },
        "id": "FfTomaXxj2t5",
        "outputId": "081e484a-3477-4dd3-9328-6622673e71c3"
      },
      "execution_count": null,
      "outputs": [
        {
          "output_type": "stream",
          "name": "stdout",
          "text": [
            "合格した科目は以下の通りです。\n",
            "国語:80点\n",
            "理科:70点\n",
            "社会:85点\n"
          ]
        }
      ]
    },
    {
      "cell_type": "code",
      "source": [
        "#def calculate_total(price):\n",
        "\n",
        "  total=price+500\n",
        "  print(f\"{total}円\")\n",
        "calculate_total(1200)\n"
      ],
      "metadata": {
        "colab": {
          "base_uri": "https://localhost:8080/"
        },
        "id": "FqYgmIYWkgc_",
        "outputId": "ffbba2a3-e929-4ff1-c122-718378180cfa"
      },
      "execution_count": null,
      "outputs": [
        {
          "output_type": "stream",
          "name": "stdout",
          "text": [
            "1700円\n"
          ]
        }
      ]
    },
    {
      "cell_type": "code",
      "source": [
        "#def add_two_arguments(price,shipping_fee):\n",
        "  total=price+shipping_fee\n",
        "  print(f\"{total}円\")\n",
        "add_two_arguments(1200,500)"
      ],
      "metadata": {
        "colab": {
          "base_uri": "https://localhost:8080/"
        },
        "id": "PwmD7S5um5oc",
        "outputId": "d152ca97-ed58-454f-848d-4ae5011848fd"
      },
      "execution_count": null,
      "outputs": [
        {
          "output_type": "stream",
          "name": "stdout",
          "text": [
            "1700円\n"
          ]
        }
      ]
    },
    {
      "cell_type": "code",
      "source": [
        "#purchaced=True\n",
        "def is_purchaced():\n",
        "  if (purchaced):\n",
        "    return True\n",
        "  else:\n",
        "    return False\n",
        "if(is_purchaced()):\n",
        "  print(\"商品は購入済みです。\")\n",
        "\n",
        "\n",
        "\n"
      ],
      "metadata": {
        "id": "X154uULQrwz0",
        "colab": {
          "base_uri": "https://localhost:8080/"
        },
        "outputId": "af5c9553-0042-45f8-eb02-8588e2241393"
      },
      "execution_count": null,
      "outputs": [
        {
          "output_type": "stream",
          "name": "stdout",
          "text": [
            "商品は購入済みです。\n"
          ]
        }
      ]
    },
    {
      "cell_type": "code",
      "source": [
        "calculate_total(price)\n",
        "tax=price*0.1\n",
        "total=price+tax\n",
        "print(f\"{total}円\")calculate_total(500)"
      ],
      "metadata": {
        "id": "_jN9VkvNuI6g",
        "colab": {
          "base_uri": "https://localhost:8080/"
        },
        "outputId": "6a691107-aada-4cdc-f72a-272bb62c9e68"
      },
      "execution_count": null,
      "outputs": [
        {
          "output_type": "stream",
          "name": "stdout",
          "text": [
            "1700円\n",
            "1320.0円\n",
            "1000円\n"
          ]
        }
      ]
    },
    {
      "cell_type": "code",
      "source": [
        "#クラスの生成\n",
        "class Human:\n",
        "\n",
        "#属性を入力する\n",
        "  def __init__ (self,name,age):\n",
        "    self.name=name\n",
        "    self.age=age\n",
        "\n",
        "#20歳以上を判定する\n",
        "  def check_adult(self):\n",
        "    if self.age>=20:\n",
        "      print(self.name,\"は大人である\")\n",
        "    else:\n",
        "      print(self.name,\"は大人ではない\")\n",
        "\n",
        "#インスタンス化\n",
        "human1=Human(\"侍太郎\",21)\n",
        "human2=Human(\"侍花子\",19)\n",
        "human3=Human(\"侍一郎\",30)\n",
        "\n",
        "#各インスタンスで大人かどうかをチェックする\n",
        "human1.check_adult()\n",
        "human2.check_adult()\n",
        "human3.check_adult()"
      ],
      "metadata": {
        "id": "_AKH1BU1Tjwg",
        "colab": {
          "base_uri": "https://localhost:8080/"
        },
        "outputId": "39ca2755-4fb8-443a-bfb5-2e660da4379b"
      },
      "execution_count": null,
      "outputs": [
        {
          "output_type": "stream",
          "name": "stdout",
          "text": [
            "侍太郎 は大人である\n",
            "侍花子 は大人ではない\n",
            "侍一郎 は大人である\n"
          ]
        }
      ]
    },
    {
      "cell_type": "markdown",
      "source": [],
      "metadata": {
        "id": "qwW1IrI_WUu8"
      }
    }
  ]
}