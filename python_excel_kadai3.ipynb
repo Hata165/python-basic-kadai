{
  "nbformat": 4,
  "nbformat_minor": 0,
  "metadata": {
    "colab": {
      "provenance": [],
      "authorship_tag": "ABX9TyM35rMf6utz0A5376pzxHGt",
      "include_colab_link": true
    },
    "kernelspec": {
      "name": "python3",
      "display_name": "Python 3"
    },
    "language_info": {
      "name": "python"
    }
  },
  "cells": [
    {
      "cell_type": "markdown",
      "metadata": {
        "id": "view-in-github",
        "colab_type": "text"
      },
      "source": [
        "<a href=\"https://colab.research.google.com/github/Hata165/python-basic-kadai/blob/main/python_excel_kadai3.ipynb\" target=\"_parent\"><img src=\"https://colab.research.google.com/assets/colab-badge.svg\" alt=\"Open In Colab\"/></a>"
      ]
    },
    {
      "cell_type": "code",
      "source": [
        "import pandas as pd\n",
        "\n",
        "# 処理対象のファイル名のリストを格納\n",
        "file_list = ['2022_年間売上表.xlsx', '2023_年間売上表.xlsx']\n",
        "\n",
        "# 結合後のデータを格納するための空のデータフレームを作成\n",
        "df = pd.DataFrame()\n",
        "\n",
        "# ファイルを一つずつ処理する\n",
        "for file_name in file_list:\n",
        "    # Excelファイルを読み込む\n",
        "    temp_df = pd.read_excel(file_name, header=None)\n",
        "\n",
        "    # データフレームの列名を指定\n",
        "    temp_df.columns = ['商品', '売上年', '金額(千円)']\n",
        "\n",
        "    # concat()でデータフレームを連結\n",
        "    df = pd.concat([df, temp_df], ignore_index=True)\n",
        "\n",
        "# 商品と売上年でグループ化し、各グループの金額を合計する\n",
        "result = df.groupby(['売上年', '商品']).sum().reset_index()\n",
        "\n",
        "# 結果を新しいExcelファイルに保存\n",
        "with pd.ExcelWriter('売上集計表.xlsx') as writer:\n",
        "    result.to_excel(writer, index=False, sheet_name='集計結果')\n",
        "\n",
        "print(\"集計結果が '売上集計表.xlsx' に保存されました。\")"
      ],
      "metadata": {
        "colab": {
          "base_uri": "https://localhost:8080/"
        },
        "id": "CMR3NIff6MyS",
        "outputId": "c573cfac-5bab-4167-c257-a61fad6dd615"
      },
      "execution_count": 3,
      "outputs": [
        {
          "output_type": "stream",
          "name": "stdout",
          "text": [
            "集計結果が '売上集計表.xlsx' に保存されました。\n"
          ]
        }
      ]
    }
  ]
}