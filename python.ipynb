{
  "cells": [
    {
      "cell_type": "markdown",
      "metadata": {
        "id": "view-in-github",
        "colab_type": "text"
      },
      "source": [
        "<a href=\"https://colab.research.google.com/github/Hata165/python-basic-kadai/blob/main/python.ipynb\" target=\"_parent\"><img src=\"https://colab.research.google.com/assets/colab-badge.svg\" alt=\"Open In Colab\"/></a>"
      ]
    },
    {
      "cell_type": "code",
      "execution_count": null,
      "metadata": {
        "colab": {
          "base_uri": "https://localhost:8080/"
        },
        "id": "aP44cdf1aXa0",
        "outputId": "4d44967c-9edf-42e3-cc9a-3362ee53d553"
      },
      "outputs": [
        {
          "name": "stdout",
          "output_type": "stream",
          "text": [
            "侍太郎\n"
          ]
        }
      ],
      "source": [
        "user_name=\"侍太郎\"\n",
        "print(user_name)"
      ]
    },
    {
      "cell_type": "code",
      "execution_count": null,
      "metadata": {
        "colab": {
          "base_uri": "https://localhost:8080/"
        },
        "id": "HfPyFpasbJ60",
        "outputId": "0a8548ec-3bbd-46b5-e246-0f56ec7df39f"
      },
      "outputs": [
        {
          "name": "stdout",
          "output_type": "stream",
          "text": [
            "侍太郎\n",
            "侍花子\n"
          ]
        }
      ],
      "source": [
        "user_name=\"侍太郎\"\n",
        "print(user_name)\n",
        "\n",
        "user_name=\"侍花子\"\n",
        "print(user_name)"
      ]
    },
    {
      "cell_type": "code",
      "source": [],
      "metadata": {
        "id": "SZQsAopsuR06"
      },
      "execution_count": null,
      "outputs": []
    },
    {
      "cell_type": "code",
      "source": [],
      "metadata": {
        "id": "Cmdq1Z6TuSt9"
      },
      "execution_count": null,
      "outputs": []
    },
    {
      "cell_type": "code",
      "execution_count": null,
      "metadata": {
        "colab": {
          "base_uri": "https://localhost:8080/"
        },
        "id": "emc79AUib9Ie",
        "outputId": "d2d332cb-4afa-42f5-a0d4-53141206c6d6"
      },
      "outputs": [
        {
          "name": "stdout",
          "output_type": "stream",
          "text": [
            "7.5\n",
            "侍太郎\n"
          ]
        }
      ],
      "source": [
        "#整数型と浮動小数点型の足し算\n",
        "number1=5\n",
        "number2=2.5\n",
        "print(number1+number2)\n",
        "\n",
        "#文字列型と文字列型の連結\n",
        "last_name=\"侍\"\n",
        "first_name=\"太郎\"\n",
        "print(last_name+first_name)"
      ]
    },
    {
      "cell_type": "code",
      "execution_count": null,
      "metadata": {
        "colab": {
          "base_uri": "https://localhost:8080/"
        },
        "id": "NoOVcCAndDFM",
        "outputId": "478516f2-d2e6-4685-e290-1e5ab3b93c1c"
      },
      "outputs": [
        {
          "name": "stdout",
          "output_type": "stream",
          "text": [
            "私の名前は侍太郎です。妹の名前は花子です。\n"
          ]
        }
      ],
      "source": [
        "last_name=\"侍\"\n",
        "first_name=\"太郎\"\n",
        "sisiter_name=\"花子\"\n",
        "\n",
        "#3つの変数を文字列に埋め込んで表示\n",
        "print(f\"私の名前は{last_name}{first_name}です。妹の名前は{sisiter_name}です。\")"
      ]
    },
    {
      "cell_type": "code",
      "execution_count": null,
      "metadata": {
        "colab": {
          "base_uri": "https://localhost:8080/"
        },
        "id": "EOLBnyrAe0FX",
        "outputId": "00f89b71-26bd-4c09-a0b1-d34abd8a6925"
      },
      "outputs": [
        {
          "output_type": "stream",
          "name": "stdout",
          "text": [
            "75.0㎠\n"
          ]
        }
      ],
      "source": [
        "top_side=10\n",
        "botom_side=20\n",
        "height=5\n",
        "print(str((top_side+botom_side)*height*0.5)+\"㎠\")"
      ]
    },
    {
      "cell_type": "code",
      "source": [
        "user_name=[\"侍太郎\",\"侍一郎\",\"侍二郎\",\"侍三郎\",\"侍四郎\"]\n",
        "user_name.append(\"侍五郎\")\n",
        "print(user_name)\n",
        "\n",
        "user_name.pop(2)\n",
        "print(user_name)"
      ],
      "metadata": {
        "colab": {
          "base_uri": "https://localhost:8080/"
        },
        "id": "IyEM9uWdzOkA",
        "outputId": "be8aaa6c-697f-4633-d1a3-b8cb4f5483df"
      },
      "execution_count": null,
      "outputs": [
        {
          "output_type": "stream",
          "name": "stdout",
          "text": [
            "['侍太郎', '侍一郎', '侍二郎', '侍三郎', '侍四郎', '侍五郎']\n",
            "['侍太郎', '侍一郎', '侍三郎', '侍四郎', '侍五郎']\n"
          ]
        }
      ]
    },
    {
      "cell_type": "code",
      "source": [
        "country_names={\"日本\",\"アメリカ\",\"イギリス\",\"フランス\"}\n",
        "\n",
        "print(country_names)"
      ],
      "metadata": {
        "colab": {
          "base_uri": "https://localhost:8080/"
        },
        "id": "3mGjWnr91VJL",
        "outputId": "224835b5-b726-41d4-ba2e-995f0c8f78c2"
      },
      "execution_count": null,
      "outputs": [
        {
          "output_type": "stream",
          "name": "stdout",
          "text": [
            "{'日本', 'フランス', 'イギリス', 'アメリカ'}\n"
          ]
        }
      ]
    },
    {
      "cell_type": "code",
      "source": [
        "prime_numbers={2,5,2,7,3,5,5}\n",
        "print(prime_numbers)\n",
        "prime_numbers.add(11)\n",
        "prime_numbers.remove(3)\n",
        "print(prime_numbers)"
      ],
      "metadata": {
        "colab": {
          "base_uri": "https://localhost:8080/"
        },
        "id": "VinQhFuw273F",
        "outputId": "6ef63461-7fb0-4957-99a2-f4380589e26f"
      },
      "execution_count": null,
      "outputs": [
        {
          "output_type": "stream",
          "name": "stdout",
          "text": [
            "{2, 3, 5, 7}\n",
            "{2, 5, 7, 11}\n"
          ]
        }
      ]
    },
    {
      "cell_type": "code",
      "source": [
        "\n"
      ],
      "metadata": {
        "id": "WUQMNz_tvAPR"
      },
      "execution_count": null,
      "outputs": []
    },
    {
      "cell_type": "code",
      "source": [
        "#連想配列を作成\n",
        "personal_date={\"name\": \"侍太郎\", \"age\": 36, \"gender\":\"男性\"}\n",
        "#キー「name」の値を表示\n",
        "print(personal_date[\"name\"])\n",
        "#連想配列全体を表示\n",
        "print(personal_date)\n",
        "#キー[age」の値を更新\n",
        "personal_date[\"age\"]=37\n",
        "#新しく要素(キーと値)を追加\n",
        "personal_date[\"address\"]=\"東京都\"\n",
        "#連想配列全体を表示\n",
        "print(personal_date)\n",
        "\n",
        "print(personal_date.pop(\"name\"))\n",
        "print(personal_date)\n",
        "\n",
        "\n"
      ],
      "metadata": {
        "colab": {
          "base_uri": "https://localhost:8080/"
        },
        "id": "qbt1d1lWuVqs",
        "outputId": "942d7166-ef99-46f2-f058-ef2aaff7e914"
      },
      "execution_count": null,
      "outputs": [
        {
          "output_type": "stream",
          "name": "stdout",
          "text": [
            "侍太郎\n",
            "{'name': '侍太郎', 'age': 36, 'gender': '男性'}\n",
            "{'name': '侍太郎', 'age': 37, 'gender': '男性', 'address': '東京都'}\n",
            "侍太郎\n",
            "{'age': 37, 'gender': '男性', 'address': '東京都'}\n"
          ]
        }
      ]
    },
    {
      "cell_type": "code",
      "source": [
        "array=[\"月曜日は晴れです\",\"火曜日は雨です\",\"水曜日は晴れです\",\"木曜日は晴れです\",\"金曜日は曇りです\",\"土曜日は晴れのち雨です\",\"日曜日は雷雨です\"]\n",
        "\n",
        "dictionary={\"mon\":\"晴れ\",\"tue\":\"雨\",\"wed\":\"晴れ\",\"thu\":\"晴れ\",\"fri\":\"曇り\",\"sat\":\"曇りのち雨\",\"sun\":\"雷雨\"}\n",
        "print(array[2])\n",
        "print(dictionary[\"wed\"])"
      ],
      "metadata": {
        "colab": {
          "base_uri": "https://localhost:8080/"
        },
        "id": "MYDj35d9S6Xi",
        "outputId": "5f3060d9-3618-441b-d19f-2085e22d74a9"
      },
      "execution_count": null,
      "outputs": [
        {
          "output_type": "stream",
          "name": "stdout",
          "text": [
            "水曜日は晴れです\n",
            "晴れ\n"
          ]
        }
      ]
    },
    {
      "cell_type": "code",
      "source": [
        "print(45+18)\n",
        "print(45>18)\n",
        "print(\"5\"==5)"
      ],
      "metadata": {
        "colab": {
          "base_uri": "https://localhost:8080/"
        },
        "id": "Xm_7OOQRZYOo",
        "outputId": "bf6824c2-495f-423b-ca5d-f4a918a75293"
      },
      "execution_count": null,
      "outputs": [
        {
          "output_type": "stream",
          "name": "stdout",
          "text": [
            "63\n",
            "True\n",
            "False\n"
          ]
        }
      ]
    },
    {
      "cell_type": "code",
      "source": [
        "#ランダムな整数を利用するために、randomモジュールをインポートする\n",
        "import random\n",
        "#変数numに0～4までのランダムな整数を代入する\n",
        "num=random.randint(0,4)\n",
        "#変数numの値を出力\n",
        "print(num)\n",
        "#変数numの値が4であれば、「大当たりです」という文字列を出力する\n",
        "if 1<num and num<3:\n",
        "    print(\"変数numは1より大きく、３より小さいです\")\n",
        "else:\n",
        "    print(\"and条件が成り立ちませんでした\")\n",
        "if num==1 or num==3:\n",
        "    print(\"変数numは1または3です\")\n",
        "else:\n",
        "    print(\"or条件が成り立ちませんでした\")\n"
      ],
      "metadata": {
        "colab": {
          "base_uri": "https://localhost:8080/"
        },
        "id": "88NO3nSQa40K",
        "outputId": "084521b7-4ca0-47a3-8ea0-3c199fb3040e"
      },
      "execution_count": null,
      "outputs": [
        {
          "output_type": "stream",
          "name": "stdout",
          "text": [
            "1\n",
            "and条件が成り立ちませんでした\n",
            "変数numは1または3です\n"
          ]
        }
      ]
    },
    {
      "cell_type": "code",
      "source": [
        "top_side=10\n",
        "bottom_side=20\n",
        "height=5\n",
        "area=(top_side+bottom_side)*height*0.5\n",
        "print(str(area)+\"㎠\")"
      ],
      "metadata": {
        "colab": {
          "base_uri": "https://localhost:8080/"
        },
        "id": "JPpbCM4-GlAk",
        "outputId": "628e3c78-16e4-4cf9-b708-01193fcb05b4"
      },
      "execution_count": null,
      "outputs": [
        {
          "output_type": "stream",
          "name": "stdout",
          "text": [
            "75.0㎠\n"
          ]
        }
      ]
    }
  ],
  "metadata": {
    "colab": {
      "provenance": [],
      "authorship_tag": "ABX9TyMYWbGgoT0Gljvc3GQRfUTk",
      "include_colab_link": true
    },
    "kernelspec": {
      "display_name": "Python 3",
      "name": "python3"
    },
    "language_info": {
      "name": "python"
    }
  },
  "nbformat": 4,
  "nbformat_minor": 0
}